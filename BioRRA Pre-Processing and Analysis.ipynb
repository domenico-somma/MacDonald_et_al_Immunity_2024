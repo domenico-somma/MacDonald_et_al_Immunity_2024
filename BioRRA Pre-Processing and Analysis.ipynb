{
 "cells": [
  {
   "cell_type": "code",
   "execution_count": null,
   "id": "c19877e9-b659-47f2-8907-0f553a8e77a0",
   "metadata": {},
   "outputs": [],
   "source": [
    "#-------Set up environment--------\n",
    "options(warn = -1, verbose=FALSE)\n",
    "#Load packages\n",
    "library(Seurat)\n",
    "library(dplyr)\n",
    "library(SeuratWrappers)\n",
    "library(harmony)\n",
    "library(MAST)\n",
    "library(cowplot)\n",
    "library(stringi) #string manipulation such as stri_sub\n",
    "library(dplyr) #data manipulation library\n",
    "library(ggplot2)\n",
    "library(readr)\n",
    "ulimit::memory_limit(100000)\n",
    "setwd(\"/data/2320454f/jupyter-2320454f/BIORRA\")\n",
    "set.tempdir(\"/data/2320454f/td\")"
   ]
  },
  {
   "cell_type": "code",
   "execution_count": null,
   "id": "17e54671-5d47-4b88-8437-7be63d3b3898",
   "metadata": {},
   "outputs": [],
   "source": [
    "#Read in experiment metadata\n",
    "metadata <- read_csv(\"Rhapsody-MetadataforBIORRAstudy_210927.csv\")\n",
    "metadata <- metadata[1:24,]"
   ]
  },
  {
   "cell_type": "code",
   "execution_count": null,
   "id": "69f86985-16b9-4cbb-be89-46662f4a3a9b",
   "metadata": {},
   "outputs": [],
   "source": [
    "#Create a list of the files from target directory\n",
    "run1 <- \"/data/2320454f/jupyter-2320454f/BIORRA/\"\n",
    "fileList <- list.files(path=run1, recursive=TRUE)\n",
    "\n",
    "#Keep only files of interest (i.e. those which contain UMInormalized counts and are sample tagged)\n",
    "foi <- fileList[grepl(\"RSEC_MolsPerCell.csv\", fileList)]     \n",
    "sampleTagged<- foi[grepl(\"SampleTag\", foi)] \n",
    "\n",
    "#Iterate through files to read in samples\n",
    "lib <- list()\n",
    "names <- list()\n",
    "newnames <- list()\n",
    "experiment1 <- list()\n",
    "for (i in 1:length(sampleTagged)) {\n",
    "  #Get the sample name only \n",
    "  names[[i]] <- gsub(\"_RSEC_MolsPerCell[.]csv\",\"\", sampleTagged[[i]])\n",
    "  newnames[[i]] <- gsub(\".*hs_\", \"\", names[[i]])\n",
    "  \n",
    "  #Read in each file under new sample name\n",
    "  lib[[newnames[[i]]]] <- read_csv(paste0(run1,sampleTagged[[i]]), skip = 7)\n",
    "  \n",
    "  #Rename feature names\n",
    "  colnames(lib[[i]]) <- gsub(\"[|].*\",\"\", colnames(lib[[i]]))\n",
    "  \n",
    "  countsData <- as.data.frame(lib[[i]])\n",
    "  rownames(countsData) <- countsData$Cell_Index\n",
    "  countsData <- countsData[,-1]\n",
    "  \n",
    "  #Create a seurat object for each sample tag\n",
    "  experiment1[[i]] <- CreateSeuratObject(counts = t(countsData)) \n",
    "  \n",
    "  #Add some metadata\n",
    "  experiment1[[i]]$sample <- names(lib[i])\n",
    "  meta <- metadata[which(metadata$`SampleID`%in%names(lib[i])),]\n",
    "  experiment1[[i]]$FinalOutcome <- meta$FinalOutcome\n",
    "  experiment1[[i]]$Experiment <- meta$Experiment\n",
    "  experiment1[[i]]$Tag <- meta$Tag    \n",
    "  experiment1[[i]]$Condition <- meta$Condition \n",
    "  experiment1[[i]]$PatientID <- meta$PatientID\n",
    "  experiment1[[i]]$Date <- meta$Date\n",
    "  experiment1[[i]]$Timepoint <- meta$Timepoint\n",
    "  experiment1[[i]]$SampleCollection <- meta$SampleCollection\n",
    "}"
   ]
  },
  {
   "cell_type": "code",
   "execution_count": null,
   "id": "4f20cb40-aa99-4c4f-8db8-7f64ce7a12ec",
   "metadata": {},
   "outputs": [],
   "source": [
    "#Merge Objects and carry out standard processing and visualisation\n",
    "experiment1.merged <- merge(experiment1[[1]], y = c(experiment1[2:length(sampleTagged)]), add.cell.ids=(names(names)), project=\"BIORRA EXPERIMENT 1\")\n",
    "experiment1.merged <- NormalizeData(experiment1.merged)\n",
    "experiment1.merged <- FindVariableFeatures(experiment1.merged)\n",
    "experiment1.merged <- ScaleData(object = experiment1.merged, verbose  = FALSE)\n",
    "experiment1.merged <- RunPCA(object = experiment1.merged, npcs = 30, verbose = FALSE)"
   ]
  },
  {
   "cell_type": "code",
   "execution_count": null,
   "id": "08b088d6-2273-4a5f-ae43-10c85b5fe3a8",
   "metadata": {},
   "outputs": [],
   "source": [
    "options(repr.plot.width=10, repr.plot.height=20)\n",
    "#Visualise PCs\n",
    "PCHeatmap(experiment1.merged,dims=16:30,cells=500)"
   ]
  },
  {
   "cell_type": "code",
   "execution_count": null,
   "id": "91ea1121-5c24-446d-8173-2852e9e49ad9",
   "metadata": {},
   "outputs": [],
   "source": [
    "#Run Standard Clustering Pipeline\n",
    "experiment1.merged <- RunUMAP(object = experiment1.merged, reduction = \"pca\", dims = 1:30)\n",
    "experiment1.merged <- FindNeighbors(object = experiment1.merged, reduction = \"pca\", dims = 1:30)\n",
    "experiment1.merged <- FindClusters(experiment1.merged, resolution = 0.8)"
   ]
  },
  {
   "cell_type": "code",
   "execution_count": null,
   "id": "50bbfc00-7dfe-44d8-bf55-0339f1f85d6e",
   "metadata": {},
   "outputs": [],
   "source": [
    "#Run Harmony And Integrate By Sample\n",
    "biorra.harmony<-RunHarmony(experiment1.merged, group.by.vars=\"sample\")"
   ]
  },
  {
   "cell_type": "code",
   "execution_count": null,
   "id": "4fa9f444-9940-4c5c-86b1-3df383668808",
   "metadata": {},
   "outputs": [],
   "source": [
    "##UMAP Resolution 0.6\n",
    "biorra.harmony <- RunUMAP(object = biorra.harmony, reduction = \"harmony\", dims = 1:30)\n",
    "biorra.harmony <- FindNeighbors(object = biorra.harmony, reduction = \"harmony\", dims = 1:30)\n",
    "biorra.harmony <- FindClusters(biorra.harmony, resolution = 1)"
   ]
  },
  {
   "cell_type": "code",
   "execution_count": null,
   "id": "424e36a7-1f3d-442e-b664-8c642d39518b",
   "metadata": {},
   "outputs": [],
   "source": [
    "#Visualise UMAP by Clusters and Sample\n",
    "options(repr.plot.width=10, repr.plot.height=8)\n",
    "DimPlot(object = biorra.harmony, reduction = \"umap\", label = TRUE) + theme_linedraw() + theme(strip.text = element_text(size = 15, face=\"bold\"), strip.background = element_rect(), panel.grid.major = element_blank(), panel.grid.minor = element_blank(),panel.background = element_blank())\n",
    "options(repr.plot.width=10, repr.plot.height=8)\n",
    "DimPlot(object = biorra.harmony, reduction = \"umap\", label = TRUE, group.by = \"PatientID\") + theme_linedraw() + theme(strip.text = element_text(size = 15, face=\"bold\"), strip.background = element_rect(), panel.grid.major = element_blank(), panel.grid.minor = element_blank(),panel.background = element_blank())\n",
    "\n",
    "#Split by Outcome Regardless of Timepoint\n",
    "options(repr.plot.width=10, repr.plot.height=8)\n",
    "DimPlot(object = biorra.harmony, reduction = \"umap\", label = TRUE, split.by = \"Condition\") + theme_linedraw() + theme(strip.text = element_text(size = 15, face=\"bold\"), strip.background = element_rect(), panel.grid.major = element_blank(), panel.grid.minor = element_blank(),panel.background = element_blank())"
   ]
  },
  {
   "cell_type": "code",
   "execution_count": null,
   "id": "4c2fd6ee-ea3e-4c8e-a045-83b37fa0f88d",
   "metadata": {},
   "outputs": [],
   "source": [
    "#Visualise QC Metrics\n",
    "VlnPlot(biorra.harmony, features=c(\"nCount_RNA\"), group.by=\"PatientID\", pt.size=0) + stat_summary(fun.y = median, geom='point', size = 2, colour = \"black\")\n",
    "VlnPlot(biorra.harmony, features=c(\"nFeature_RNA\"), group.by=\"PatientID\", pt.size=0) + stat_summary(fun.y = median, geom='point', size = 2, colour = \"black\")"
   ]
  },
  {
   "cell_type": "code",
   "execution_count": null,
   "id": "4a13d66e-0c03-4e39-b0ed-f3873a1d78f5",
   "metadata": {},
   "outputs": [],
   "source": [
    "# find markers for every cluster compared to all remaining cells, report only the positive ones\n",
    "biorra.harmony.markers <- FindAllMarkers(object = biorra.harmony, only.pos = TRUE, min.pct = 0.4, logfc.threshold = 0.25)\n",
    "write.csv(\"biorra.harmony.markers-MAST-min.pct0.4-res0.2.csv\")\n",
    "top10 <- biorra.harmony.markers %>% group_by(cluster) %>% top_n(n = 10, wt = avg_logFC)\n",
    "options(repr.plot.width=20, repr.plot.height=15)\n",
    "DoHeatmap(object = biorra.harmony, features = top10$gene)"
   ]
  },
  {
   "cell_type": "code",
   "execution_count": null,
   "id": "0170e21f-928f-4ec1-a92d-d53ad108a66e",
   "metadata": {},
   "outputs": [],
   "source": [
    "options(repr.plot.width=20, repr.plot.height=15)\n",
    "#Visualise some key markers of interest\n",
    "VlnPlot(object = biorra.harmony, features = c(\"CD1C\", \"CD163\", \"CD36\", \"CD14\", \"CLEC10A\", \"CD33\", \"CADM1\"),pt.size=0)"
   ]
  },
  {
   "cell_type": "code",
   "execution_count": null,
   "id": "4a92185f-0008-44f1-b4b0-a8e8386dca1c",
   "metadata": {},
   "outputs": [],
   "source": [
    "#Rename Seurat Clusters to Celltypes based on Marker Genes\n",
    "biorra.harmony$celltype <- plyr::revalue(as.character(biorra.harmony$seurat_clusters),\n",
    "                                    c(\"0\"='CD163 CD69 CD1c Low Dendritic Cells',\n",
    "                                      \"1\"='CD16 Monocytes',\n",
    "                                      \"2\"='CLEC4E CD163 IL-1B CD14 Monocytes',\n",
    "                                      \"3\"='CXCL8 CD14 Monocytes',\n",
    "                                      \"4\"='CD1c High Dendritic Cells',\n",
    "                                      \"5\"='CCL3 CD14 Monocytes',\n",
    "                                      \"6\"='S100A12 CD14 Monocytes',\n",
    "                                      \"7\"='CD14 CD16 Monocytes',\n",
    "                                      \"8\"='pDC',\n",
    "                                      \"9\"='C1QA C1QB CD16 Monocytes',\n",
    "                                      \"10\"='CLEC10A CD33 Dendritic Cells',\n",
    "                                      \"11\"='IRF8 DPP4 Cells',\n",
    "                                      \"12\"='NK Cells',\n",
    "                                      \"13\"='AXL CD5 CD1c Dendritic Cells', \n",
    "                                      \"14\"='B Cells',\n",
    "                                      \"15\"='Plasma Cells'))\n",
    "Idents(biorra.harmony) <- \"celltype\"\n",
    "\n",
    "#Visualise UMAP with new annotations\n",
    "options(repr.plot.width=10, repr.plot.height=8)\n",
    "DimPlot(object = biorra.harmony, reduction = \"umap\", label = FALSE) + theme_linedraw() + theme(strip.text = element_text(size = 15, face=\"bold\"), strip.background = element_rect(), panel.grid.major = element_blank(), panel.grid.minor = element_blank(),panel.background = element_blank())"
   ]
  },
  {
   "cell_type": "code",
   "execution_count": null,
   "id": "1851b9a9-f754-4dfd-92a2-ebd1f921ffd2",
   "metadata": {},
   "outputs": [],
   "source": [
    "#Save Integrated Object with All Cells\n",
    "saveRDS(biorra.harmony, \"biorra.harmony.rds\")"
   ]
  },
  {
   "cell_type": "code",
   "execution_count": null,
   "id": "7945d7e1-9e24-429b-bb61-03685a1d7900",
   "metadata": {},
   "outputs": [],
   "source": [
    "#Remove all non-myeloid cells\n",
    "myeloid.biorrah<-subset(biorra.harmony, idents=c(\"NK Cells\", \"B Cells\", \"Plasma Cells\", \"pDC\", \"IRF8 DPP4 Cells\"), invert=TRUE)"
   ]
  },
  {
   "cell_type": "code",
   "execution_count": null,
   "id": "1f9fece1-4b75-4f3e-a3d3-072527bedc3a",
   "metadata": {},
   "outputs": [],
   "source": [
    "#Save Only the Myeloid Cells from BioRRA\n",
    "saveRDS(myeloid.biorrah, \"myeloid.biorrah.rds\")"
   ]
  },
  {
   "cell_type": "markdown",
   "id": "89a93849-2c1e-4d86-93b6-08063a0494cd",
   "metadata": {},
   "source": [
    "# Now Begins re-analysis of Myeloid Cells Only"
   ]
  },
  {
   "cell_type": "code",
   "execution_count": null,
   "id": "4e6c9bdc-7d87-467d-b5d1-95cf23e5340a",
   "metadata": {},
   "outputs": [],
   "source": [
    "#-------Set up environment--------\n",
    "options(warn = -1, verbose=FALSE)\n",
    "#Load packages\n",
    "library(Seurat)\n",
    "library(dplyr)\n",
    "library(MAST)\n",
    "library(ggrepel)\n",
    "library(cowplot)\n",
    "library(stringi) #string manipulation such as stri_sub\n",
    "library(dplyr) #data manipulation library\n",
    "library(ggplot2)\n",
    "library(ggmin)\n",
    "library(readr)\n",
    "ulimit::memory_limit(100000)\n",
    "setwd(\"/data/2320454f/jupyter-2320454f/BIORRA\")\n",
    "set.tempdir(\"/data/2320454f/td\")"
   ]
  },
  {
   "cell_type": "code",
   "execution_count": null,
   "id": "12b5d26c-4c89-492a-a18f-46bd334b3fce",
   "metadata": {},
   "outputs": [],
   "source": [
    "myeloid.biorrah <- readRDS(\"myeloid.biorrah.rds\")\n",
    "myeloid.biorrah"
   ]
  },
  {
   "cell_type": "code",
   "execution_count": null,
   "id": "d93ffb3a-3042-4453-96d4-3600e9e2eb8c",
   "metadata": {},
   "outputs": [],
   "source": [
    "myeloid.biorrah <- FindVariableFeatures(myeloid.biorrah)\n",
    "myeloid.biorrah <- ScaleData(object = myeloid.biorrah, verbose  = FALSE)\n",
    "myeloid.biorrah <- RunPCA(object = myeloid.biorrah, npcs = 30, verbose = FALSE) "
   ]
  },
  {
   "cell_type": "code",
   "execution_count": null,
   "id": "603fada5-4701-4061-9df0-f69f58143f19",
   "metadata": {},
   "outputs": [],
   "source": [
    "#Visualise dimensionality of the data with PCA Plot\n",
    "options(repr.plot.width=10, repr.plot.height=20)\n",
    "PCHeatmap(myeloid.biorrah,dims=1:15,cells=500)"
   ]
  },
  {
   "cell_type": "code",
   "execution_count": null,
   "id": "850da37d-1832-4f79-9fe3-45e6b46525a2",
   "metadata": {},
   "outputs": [],
   "source": [
    "#Run the standard workflow for visualization and clustering\n",
    "myeloid.biorrah <- RunUMAP(object = myeloid.biorrah, reduction = \"harmony\", dims = 1:20)\n",
    "myeloid.biorrah <- FindNeighbors(object = myeloid.biorrah, reduction = \"harmony\", dims = 1:20)\n",
    "myeloid.biorrah <- FindClusters(myeloid.biorrah, resolution = 0.9)"
   ]
  },
  {
   "cell_type": "code",
   "execution_count": null,
   "id": "5482b6f2-7679-4bff-8f74-eccaed49dfb6",
   "metadata": {},
   "outputs": [],
   "source": [
    "#Make New Column in Metadata\n",
    "myeloid.biorrah$condition_timepoint <- paste0(myeloid.biorrah$Condition, \"_\", myeloid.biorrah$Timepoint)\n",
    "#Make New Column in Metadata\n",
    "myeloid.biorrah$condition_state <- paste0(myeloid.biorrah$condition_timepoint, \"_\", myeloid.biorrah$FinalOutcome)\n",
    "#Rename\n",
    "myeloid.biorrah$remission.state <- plyr::revalue(as.character(myeloid.biorrah$condition_state),\n",
    "c('Remission_1st_Flare'=\"Baseline Remission (Flare Endpoint)\",'Remission_1st_Maintained Remission'=\"Baseline Remission (Sustained Remission Endpoint)\",'Flare_2nd_Flare'=\"Flare\", 'Remission_2nd_Maintained Remission'=\"Sustained Remission\"))"
   ]
  },
  {
   "cell_type": "code",
   "execution_count": null,
   "id": "63a36cbd-4b7d-4617-b608-6dba7db7c83f",
   "metadata": {},
   "outputs": [],
   "source": [
    "#UMAP by Cluster\n",
    "options(repr.plot.width=10, repr.plot.height=8)\n",
    "DimPlot(object = myeloid.biorrah, reduction = \"umap\", label = TRUE) + theme_linedraw() + theme(strip.text = element_text(size = 15, face=\"bold\"), strip.background = element_rect(), panel.grid.major = element_blank(), panel.grid.minor = element_blank(),panel.background = element_blank())\n",
    "\n",
    "#UMAP Split by Disease Outcome\n",
    "options(repr.plot.width=30, repr.plot.height=20)\n",
    "DimPlot(object = myeloid.biorrah, reduction = \"umap\", label = TRUE, split.by = \"remission.state\", ncol=4, pt.size=1) + theme_linedraw() + theme(strip.text = element_text(size = 15, face=\"bold\"), strip.background = element_rect(), panel.grid.major = element_blank(), panel.grid.minor = element_blank(),panel.background = element_blank())"
   ]
  },
  {
   "cell_type": "code",
   "execution_count": null,
   "id": "35f1e107-e292-4677-b8ca-268d20aff943",
   "metadata": {},
   "outputs": [],
   "source": [
    "#Create Feature Plot with GOI to give initial idea of Clusters\n",
    "DefaultAssay(myeloid.biorrah) <- \"RNA\"\n",
    "options(repr.plot.width=15, repr.plot.height=8)\n",
    "FeaturePlot(myeloid.biorrah, features=c(\"CD163\",\"CD1C\",\"CD14\",\"CLEC9A\", \"CLEC10A\"), order=TRUE)"
   ]
  },
  {
   "cell_type": "code",
   "execution_count": null,
   "id": "348d4743-23fe-4303-b25c-6252a16032bd",
   "metadata": {},
   "outputs": [],
   "source": [
    "DefaultAssay(myeloid.biorrah) <- \"RNA\"\n",
    "myeloid.biorrah.markers <- FindAllMarkers(myeloid.biorrah, only.pos=TRUE, min.pct=0.4, test.use=\"MAST\")\n",
    "\n",
    "#How many clusters?\n",
    "num.clust <- length(unique(myeloid.biorrah$seurat_clusters))\n",
    "num.clust\n",
    "\n",
    "myeloid.biorrah.markers$multiTestCorrected <- myeloid.biorrah.markers$p_val_adj*num.clust\n",
    "myeloid.biorrah.markers <- myeloid.biorrah.markers[which(myeloid.biorrah.markers$multiTestCorrected<0.05),]\n",
    "top15 <- myeloid.biorrah.markers %>% group_by(cluster) %>% top_n(n = 15, wt = avg_logFC)\n",
    "write.csv(myeloid.biorrah.markers, \"myeloid.biorrah.markers-MAST-15dims-res1.0-minpct0.4.csv\")"
   ]
  },
  {
   "cell_type": "code",
   "execution_count": null,
   "id": "ec548475-1db7-4cb7-a639-9f93d994e66e",
   "metadata": {},
   "outputs": [],
   "source": [
    "#Remember to change to integrated assay to do heatmap \n",
    "DefaultAssay(myeloid.biorrah) <- 'RNA'\n",
    "options(repr.plot.width=20, repr.plot.height=30)\n",
    "DoHeatmap(myeloid.biorrah, features=top15$gene) + \n",
    "    theme(text = element_text(size = 20))"
   ]
  },
  {
   "cell_type": "code",
   "execution_count": null,
   "id": "2ac0c6f8-0de3-459a-ad23-f5dba2878843",
   "metadata": {},
   "outputs": [],
   "source": [
    "BuildClusterTree(myeloid.biorrah)%>%PlotClusterTree()"
   ]
  },
  {
   "cell_type": "code",
   "execution_count": null,
   "id": "eef4bdb9-e57e-49b6-8b32-941529b353fa",
   "metadata": {},
   "outputs": [],
   "source": [
    "#Violin Plot for Useful Markers\n",
    "options(repr.plot.width=17, repr.plot.height=10)\n",
    "VlnPlot(myeloid.biorrah, features=c(\"CD163\", \"CD36\", \"CD1C\", \"FCGR3A\", \"IRF8\", \"IRF4\", \"CD1C\", \"IL3RA\", \"CD33\"), pt.size=0) + stat_summary(fun.y = median, geom='point', size = 2, colour = \"black\")"
   ]
  },
  {
   "cell_type": "code",
   "execution_count": null,
   "id": "27f3180e-2bfe-4ade-aa48-80ec2ceaa42e",
   "metadata": {},
   "outputs": [],
   "source": [
    "#Rename Clusters and put in desired order\n",
    "myeloid.biorrah$celltype <- plyr::revalue(as.character(myeloid.biorrah$seurat_clusters),\n",
    "                                    c(\"0\"='CD16 Monocytes',\n",
    "                                      \"1\"='CXCL8 CD14 Monocytes',\n",
    "                                      \"2\"='CLEC4E CD163 IL1B CD14 Monocytes',\n",
    "                                      \"3\"='CD1c High Dendritic Cells',\n",
    "                                      \"4\"='S100A9hi S100A12hi CD14 Monocytes',\n",
    "                                      \"5\"='CD163 CD1c Low Dendritic Cells',\n",
    "                                      \"6\"='IRF4hi CD163 CD1c Dendritic Cells',\n",
    "                                      \"7\"='CD14 CD16 Monocytes',\n",
    "                                      \"8\"='CCL3 CD14 Monocytes',\n",
    "                                      \"9\"='C1QA C1QB CD16 Monocytes',\n",
    "                                      \"10\"='CLEC10A CD33 CD1c Dendritic Cells',\n",
    "                                      \"11\"='AXL CD5 IL18R1 CD1c Dendritic Cells'))"
   ]
  },
  {
   "cell_type": "code",
   "execution_count": null,
   "id": "13216e19-3c68-4432-9753-09344fcd1e41",
   "metadata": {},
   "outputs": [],
   "source": [
    "#Move to new object\n",
    "mb<-myeloid.biorrah\n",
    "\n",
    "#Merge Monocyte Clusters as they are transcriptionally similar in gene panel\n",
    "mb$celltype <- plyr::revalue(as.character(mb$seurat_clusters),\n",
    "                                    c(\"CD16 Monocytes\"='CD16 Monocytes',\n",
    "                                      \"CXCL8 CD14 Monocytes\"='CXCL8 CCL3 Activated CD14 Monocytes',\n",
    "                                      \"CLEC4E CD163 IL1B CD14 Monocytes\"='CXCL8 CCL3 Activated CD14 Monocytes',\n",
    "                                      \"CD1c High Dendritic Cells\"='CD1c High Dendritic Cells',\n",
    "                                      \"S100A9hi S100A12hi CD14 Monocytes\"='S100A9hi S100A12hi Classical CD14 Monocytes',\n",
    "                                      \"CD163 CD1c Low Dendritic Cells\"='CD163 CD1c Low Dendritic Cells',\n",
    "                                      \"IRF4hi CD163 CD1c Dendritic Cells\"='IRF4hi CD163 CD1c Dendritic Cells',\n",
    "                                      \"CD14 CD16 Monocytes\"='CD14 CD16 Monocytes',\n",
    "                                      \"CCL3 CD14 Monocytes\"='CXCL8 CCL3 Activated CD14 Monocytes',\n",
    "                                      \"C1QA C1QB CD16 Monocytes\"='C1QA C1QB CD16 Monocytes',\n",
    "                                      \"CLEC10A CD33 CD1c Dendritic Cells\"='CLEC10A CD33 CD1c Dendritic Cells',\n",
    "                                      \"AXL CD5 IL18R1 CD1c Dendritic Cells\"='AXL CD5 IL18R1 CD1c Dendritic Cells'\n",
    "\n",
    "#Rename Clusters and put in desired order\n",
    "levels(x = mb) <- c(\"CXCL8 CCL3 Activated CD14 Monocytes\", \"S100A9hi S100A12hi Classical CD14 Monocytes\",\n",
    "                                                                                 \"CD14 CD16 Monocytes\",\n",
    "                                                                                \"CD16 Monocytes\",\n",
    "                                                                                \"C1QA C1QB CD16 Monocytes\",\n",
    "                                                                                \"CD1c High Dendritic Cells\",\n",
    "                                                                                \"IRF4hi CD163 CD1c Dendritic Cells\",\n",
    "                                                                                \"CD163 CD1c Low Dendritic Cells\",\n",
    "                                                                                \"AXL CD5 IL18R1 CD1c Dendritic Cells\",\n",
    "                                                                                \"CLEC10A CD33 CD1c Dendritic Cells\")"
   ]
  },
  {
   "cell_type": "code",
   "execution_count": null,
   "id": "abeb1050-1d06-47ab-b240-d1ad2ce89a18",
   "metadata": {},
   "outputs": [],
   "source": [
    "clus.cols<-c(\"red\", \"#00FFFF\", \"yellow\", \"#355E3B\", \"#7CFC00\", \"#9400D3\", \"#800000\", \"orange\", \"#66CDAA\", \"#191970\")"
   ]
  },
  {
   "cell_type": "code",
   "execution_count": null,
   "id": "7903fcae-f3e5-4b83-aaf5-2d666a6f53c5",
   "metadata": {},
   "outputs": [],
   "source": [
    "#Proportions of cells in each cluster per group\n",
    "freq_table_group <- as.data.frame(prop.table(x = table(Idents(mb), mb@meta.data[, \"remission.state\"]), margin = 2))\n",
    "options(repr.plot.width=10, repr.plot.height=10)\n",
    "ggplot(data=freq_table_group, aes(x=freq_table_group$Var2, y=freq_table_group$Freq, fill=freq_table_group$Var1)) + theme_linedraw() + theme(legend.text=element_text(size=15))+\n",
    "geom_bar(stat=\"identity\", color=\"black\") + labs(x=\"Group\", y=\"Proportion of Cells\", fill=\"Cluster\") + theme(axis.text.x.bottom = element_text(angle=45,hjust=1,size=13), axis.ticks.x.bottom = element_blank(), panel.grid.major = element_blank(), panel.grid.minor = element_blank()) + theme(strip.text = element_text(size = 15, face=\"bold\"), strip.background = element_rect())+ scale_fill_manual(values=clus.cols)"
   ]
  },
  {
   "cell_type": "code",
   "execution_count": null,
   "id": "19390a07-317a-48d1-a9a1-1b4c768168e4",
   "metadata": {},
   "outputs": [],
   "source": [
    "BuildClusterTree(mb)%>%PlotClusterTree()"
   ]
  },
  {
   "cell_type": "code",
   "execution_count": null,
   "id": "6f767b07-0f0d-4cbf-9e25-001913fd9a43",
   "metadata": {},
   "outputs": [],
   "source": [
    "#Find Markers for Merged Clusters\n",
    "DefaultAssay(mb) <- \"RNA\"\n",
    "mb.markers <- FindAllMarkers(mb, only.pos=TRUE, min.pct=0.4, test.use=\"MAST\")"
   ]
  },
  {
   "cell_type": "code",
   "execution_count": null,
   "id": "835b411d-73f0-4437-8ba6-e8958886e8f1",
   "metadata": {},
   "outputs": [],
   "source": [
    "#How many clusters?\n",
    "num.clust <- length(unique(mb$celltype))\n",
    "num.clust\n",
    "\n",
    "mb.markers$multiTestCorrected <- mb.markers$p_val_adj*num.clust\n",
    "mb.markers <- mb.markers[which(mb.markers$multiTestCorrected<0.05),]\n",
    "top15 <- mb.markers %>% group_by(cluster) %>% top_n(n = 15, wt = avg_logFC)\n",
    "write.csv(mb.markers, \"mb.markers-MAST-15dims-res1.0-minpct0.4.csv\")"
   ]
  },
  {
   "cell_type": "code",
   "execution_count": null,
   "id": "762f4e08-5274-4c9b-9305-53e311aa39f6",
   "metadata": {},
   "outputs": [],
   "source": [
    "#Remember to change to integrated assay to do heatmap \n",
    "#when using seurat heatmap RNA better for identification\n",
    "DefaultAssay(mb) <- \"RNA\"\n",
    "options(repr.plot.width=23, repr.plot.height=23)\n",
    "DoHeatmap(mb, features=top15$gene, label=FALSE, group.colors=clus.cols) + \n",
    "    theme(text = element_text(size = 25))"
   ]
  },
  {
   "cell_type": "code",
   "execution_count": null,
   "id": "0ceac83e-43a1-4bbd-86e1-d162de8fa62f",
   "metadata": {},
   "outputs": [],
   "source": [
    "#UMAP by Cluster\n",
    "options(repr.plot.width=13, repr.plot.height=8)\n",
    "DimPlot(object = mb, reduction = \"umap\", label = FALSE, cols = clus.cols,  label.size = 10) + theme_linedraw() + theme(strip.text = element_text(size = 15, face=\"bold\"), strip.background = element_rect(), panel.grid.major = element_blank(), panel.grid.minor = element_blank(),panel.background = element_blank())"
   ]
  },
  {
   "cell_type": "code",
   "execution_count": null,
   "id": "d16a6bff-5b38-4224-bb6d-4d19517b19d1",
   "metadata": {},
   "outputs": [],
   "source": [
    "#Make Data Frame to get Proportion Numbers for Prism Analysis\n",
    "freq_table_sample_endpoint <- as.data.frame(prop.table(x = table(Idents(mb), mb@meta.data[, \"sample\"]), margin = 2))\n",
    "freq_table_sample_endpoint\n",
    "colnames(freq_table_sample_endpoint) <- c(\"Cluster\",\"Sample\",\"Freq\")\n",
    "#Save output of table and restructure for analysis\n",
    "write.csv(reshape(freq_table_sample_endpoint, timevar=\"Sample\",idvar=\"Cluster\", direction=\"wide\"),\"cluster_prop.table_sample_endpoint.csv\")"
   ]
  },
  {
   "cell_type": "code",
   "execution_count": null,
   "id": "60cfe9e5-ade2-461c-8134-fe8bf2d14c72",
   "metadata": {},
   "outputs": [],
   "source": [
    "#Prepare Heatmap Using Complex Heatmap Package\n",
    "DefaultAssay(mb) <- \"RNA\"\n",
    "mb.markers <- FindAllMarkers(mb, only.pos=TRUE, min.pct=0.4, test.use=\"MAST\")\n",
    "\n",
    "mb.markers <- mb.markers[which(mb.markers$p_val_adj<0.05),]"
   ]
  },
  {
   "cell_type": "code",
   "execution_count": null,
   "id": "44701a3d-d5fe-4fc3-ae10-46e2c75bd9f4",
   "metadata": {},
   "outputs": [],
   "source": [
    "library(data.table)\n",
    "# pick signficant genes to show in the heatmap\n",
    "# arrange the genes such that the gene with max logFC is at the center and values decrease as we move away from center\n",
    "genes_use_df<-data.table(mb.markers)[\n",
    "    p_val_adj<0.05][\n",
    "    , .SD[order(-avg_log2FC)][1:20, ], by = cluster][\n",
    "    , .SD[!is.na(gene)]][\n",
    "    , .SD[order(avg_log2FC)], by = cluster][\n",
    "    , \":=\" (len = .N, rank = frank(avg_log2FC)), by = cluster][\n",
    "    , .SD[c(seq(1, round(.SD$len[1]/3), 1), seq(.SD$len[1], round(.SD$len[1]/3)+1, -1)), ], by = cluster][\n",
    "    , .(gene, avg_log2FC, cluster, p_val_adj) \n",
    "]"
   ]
  },
  {
   "cell_type": "code",
   "execution_count": null,
   "id": "06f9ae49-d638-437d-89bd-9901328bd268",
   "metadata": {},
   "outputs": [],
   "source": [
    "#Organise genes we want to include by cluster\n",
    "genes_use_df <- genes_use_df %>% distinct(gene, .keep_all = TRUE) %>% arrange(cluster)\n",
    "genes_use_df[, .SD[order(-avg_log2FC)][1:5, ], by = cluster]"
   ]
  },
  {
   "cell_type": "code",
   "execution_count": null,
   "id": "557bde8b-c6b8-400e-a0f7-145771e93b5f",
   "metadata": {},
   "outputs": [],
   "source": [
    "message(\"Checking that the genes are unique: \", nrow(genes_use_df) == length(unique(genes_use_df$gene)))\n",
    "message(\"Number of genes in heatmap: \", nrow(genes_use_df))\n",
    "\n",
    " \n",
    "\n",
    "# select the top 5 genes with highest logFC in each cluster and assign each gene to a cell type based on it logFC - the gene belongs to the celltype with higher logFC\n",
    "genes_to_mark_celltypes<-genes_use_df[, .SD[order(-avg_log2FC)][1:5, ], by = cluster][\n",
    "    , .(cluster, gene)\n",
    "]\n",
    "\n",
    " \n",
    "\n",
    ".mat<-mb.markers %>% \n",
    "    subset(gene %in% genes_use_df$gene) %>% \n",
    "    dplyr::select(cluster, avg_log2FC, gene) %>% \n",
    "    tidyr::spread(cluster, avg_log2FC) %>% \n",
    "    tibble::column_to_rownames('gene') %>% \n",
    "    as.matrix() %>% t() \n",
    ".mat<-.mat[, genes_use_df$gene]\n",
    "\n",
    " \n",
    "\n",
    "message(\n",
    "    \"Are all genes that are being marked also present in the matrix?: \", \n",
    "    length(setdiff(genes_to_mark_celltypes$gene, colnames(.mat))) == 0\n",
    ")\n",
    "\n",
    " \n",
    "\n",
    "genes_idx<-data.frame(idx = which(colnames(.mat) %in% genes_to_mark_celltypes$gene)) %>% \n",
    "    mutate(gene = colnames(.mat)[idx])"
   ]
  },
  {
   "cell_type": "code",
   "execution_count": null,
   "id": "400629df-572d-456c-be1c-4f33eb9267cf",
   "metadata": {},
   "outputs": [],
   "source": [
    "#Get the exact position of genes we wish to annotate in the matrix\n",
    "genes_to_mark_celltypes<-genes_to_mark_celltypes %>% left_join(unique(genes_idx), by = \"gene\")\n",
    "\n",
    "genes_to_mark_celltypes %>% arrange(cluster)"
   ]
  },
  {
   "cell_type": "code",
   "execution_count": null,
   "id": "39a2b268-ff15-41cb-9243-59181bd20f86",
   "metadata": {},
   "outputs": [],
   "source": [
    ".mat[is.na(.mat)] <- 0"
   ]
  },
  {
   "cell_type": "code",
   "execution_count": null,
   "id": "0efd5ac6-3071-48c9-a567-64d9478abfa2",
   "metadata": {},
   "outputs": [],
   "source": [
    "names(clus.cols)<-levels(mb)\n",
    "library(ComplexHeatmap)\n",
    "options(repr.plot.width=15, repr.plot.height=5)\n",
    "\n",
    "gene.anno<-columnAnnotation(\n",
    "    col_ann = anno_mark(\n",
    "        at = genes_to_mark_celltypes$idx,\n",
    "        side = \"bottom\",\n",
    "        labels = genes_to_mark_celltypes$gene)\n",
    "    )\n",
    "\n",
    "clust.anno<-columnAnnotation(show_legend = TRUE,\n",
    "    cluster = genes_use_df$cluster,\n",
    "    col = list(cluster=clus.cols))"
   ]
  },
  {
   "cell_type": "code",
   "execution_count": null,
   "id": "6adeffc2-b747-4afb-a414-47bfa8ada025",
   "metadata": {},
   "outputs": [],
   "source": [
    "anno_mark(\n",
    "        at = genes_to_mark_celltypes$idx,\n",
    "        side = \"bottom\",\n",
    "        labels = genes_to_mark_celltypes$gene)"
   ]
  },
  {
   "cell_type": "code",
   "execution_count": null,
   "id": "b79da94c-5363-4884-ae0c-b66f01e15ab4",
   "metadata": {},
   "outputs": [],
   "source": [
    "library(scales)"
   ]
  },
  {
   "cell_type": "code",
   "execution_count": null,
   "id": "d7aa5b04-6761-4144-bcd8-fd1afe8adee6",
   "metadata": {},
   "outputs": [],
   "source": [
    "split<-genes_use_df$cluster\n",
    "options(repr.plot.width=40, repr.plot.height=5)\n",
    "colnames(.mat)<-NULL\n",
    ".mat %>% \n",
    "    Heatmap(\n",
    "        name = 'avg_log2FC',\n",
    "        col = circlize::colorRamp2(c(0, 0.1, 2), c('white', 'white', muted('blue'))),\n",
    "        #column_names_gp = grid::gpar(fontsize = 10),\n",
    "#         row_dend_side = \"right\",\n",
    "        cluster_rows = FALSE,\n",
    "        cluster_columns = FALSE,\n",
    "        top_annotation = clust.anno,\n",
    "        column_title=NULL,\n",
    "        bottom_annotation = gene.anno,\n",
    "        column_split = split,\n",
    "    ) "
   ]
  }
 ],
 "metadata": {
  "kernelspec": {
   "display_name": "R",
   "language": "R",
   "name": "ir"
  },
  "language_info": {
   "codemirror_mode": "r",
   "file_extension": ".r",
   "mimetype": "text/x-r-source",
   "name": "R",
   "pygments_lexer": "r",
   "version": "4.3.2"
  }
 },
 "nbformat": 4,
 "nbformat_minor": 5
}
